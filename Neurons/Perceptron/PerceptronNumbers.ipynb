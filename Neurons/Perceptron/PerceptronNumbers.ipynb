{
 "cells": [
  {
   "cell_type": "markdown",
   "metadata": {},
   "source": [
    "Reconocimiento de números utilizando Perceptrones"
   ]
  },
  {
   "cell_type": "markdown",
   "metadata": {},
   "source": [
    "Importaciones"
   ]
  },
  {
   "cell_type": "code",
   "execution_count": 1,
   "metadata": {},
   "outputs": [],
   "source": [
    "import numpy as np\n",
    "import matplotlib.pyplot as plt"
   ]
  },
  {
   "cell_type": "markdown",
   "metadata": {},
   "source": [
    "Función de Activación"
   ]
  },
  {
   "cell_type": "code",
   "execution_count": 2,
   "metadata": {},
   "outputs": [],
   "source": [
    "# Función de activación escalón\n",
    "def activation(x):\n",
    "    return np.where(x >= 0, 1, 0)"
   ]
  },
  {
   "cell_type": "markdown",
   "metadata": {},
   "source": [
    "Entradas y Salidas"
   ]
  },
  {
   "cell_type": "code",
   "execution_count": 3,
   "metadata": {},
   "outputs": [],
   "source": [
    "# Representaciones en matriz 5x3 para los números del 0 al 9\n",
    "inputs = np.array([\n",
    "    [1, 1, 1, 1, 0, 1, 1, 0, 1, 1, 0, 1, 1, 1, 1],  # 0\n",
    "    [0, 1, 0, 1, 1, 0, 0, 1, 0, 0, 1, 0, 0, 1, 0],  # 1\n",
    "    [1, 1, 1, 0, 0, 1, 1, 1, 1, 1, 0, 0, 1, 1, 1],  # 2\n",
    "    [1, 1, 1, 0, 0, 1, 1, 1, 1, 0, 0, 1, 1, 1, 1],  # 3\n",
    "    [1, 0, 1, 1, 0, 1, 1, 1, 1, 0, 0, 1, 0, 0, 1],  # 4\n",
    "    [1, 1, 1, 1, 0, 0, 1, 1, 1, 0, 0, 1, 1, 1, 1],  # 5\n",
    "    [1, 1, 1, 1, 0, 0, 1, 1, 1, 1, 0, 1, 1, 1, 1],  # 6\n",
    "    [1, 1, 1, 0, 0, 1, 0, 0, 1, 0, 0, 1, 0, 0, 1],  # 7\n",
    "    [1, 1, 1, 1, 0, 1, 1, 1, 1, 1, 0, 1, 1, 1, 1],  # 8\n",
    "    [1, 1, 1, 1, 0, 1, 1, 1, 1, 0, 0, 1, 1, 1, 1]   # 9\n",
    "])\n",
    "\n",
    "# Salidas binarias para los números del 0 al 9\n",
    "outputs = np.array([\n",
    "    [0, 0, 0, 0],  # 0\n",
    "    [0, 0, 0, 1],  # 1\n",
    "    [0, 0, 1, 0],  # 2\n",
    "    [0, 0, 1, 1],  # 3\n",
    "    [0, 1, 0, 0],  # 4\n",
    "    [0, 1, 0, 1],  # 5\n",
    "    [0, 1, 1, 0],  # 6\n",
    "    [0, 1, 1, 1],  # 7\n",
    "    [1, 0, 0, 0],  # 8\n",
    "    [1, 0, 0, 1]   # 9\n",
    "])"
   ]
  },
  {
   "cell_type": "markdown",
   "metadata": {},
   "source": [
    "Entrenamiento"
   ]
  },
  {
   "cell_type": "code",
   "execution_count": 43,
   "metadata": {},
   "outputs": [
    {
     "name": "stdout",
     "output_type": "stream",
     "text": [
      "Epoch 0, Error: 14\n",
      "Epoch 100, Error: 0\n",
      "Epoch 200, Error: 0\n",
      "Epoch 300, Error: 0\n",
      "Epoch 400, Error: 0\n",
      "Epoch 500, Error: 0\n",
      "Epoch 600, Error: 0\n",
      "Epoch 700, Error: 0\n",
      "Epoch 800, Error: 0\n",
      "Epoch 900, Error: 0\n"
     ]
    }
   ],
   "source": [
    "# Inicialización de pesos\n",
    "np.random.seed(42)\n",
    "weights = np.random.rand(15, 4) - 0.5\n",
    "bias = np.random.rand(4) - 0.5\n",
    "\n",
    "# Tasa de aprendizaje\n",
    "learning_rate = 0.1\n",
    "\n",
    "# Entrenamiento\n",
    "epochs = 1000\n",
    "errors = []\n",
    "\n",
    "for epoch in range(epochs):\n",
    "    total_error = 0\n",
    "    for i in range(len(inputs)):\n",
    "        input_vector = inputs[i]\n",
    "        target_output = outputs[i]\n",
    "\n",
    "        # Calcular la salida de la red\n",
    "        linear_output = np.dot(input_vector, weights) + bias\n",
    "        predicted_output = activation(linear_output)\n",
    "\n",
    "        # Calcular el error\n",
    "        error = target_output - predicted_output\n",
    "        total_error += np.sum(error**2)\n",
    "\n",
    "        # Actualizar los pesos y bias\n",
    "        weights += learning_rate * np.outer(input_vector, error)\n",
    "        bias += learning_rate * error\n",
    "    \n",
    "    errors.append(total_error)\n",
    "\n",
    "    # Opción para imprimir el error en cada epoch\n",
    "    if epoch % 100 == 0:\n",
    "        print(f'Epoch {epoch}, Error: {total_error}')"
   ]
  },
  {
   "cell_type": "markdown",
   "metadata": {},
   "source": [
    "Grafica del Error"
   ]
  },
  {
   "cell_type": "code",
   "execution_count": 44,
   "metadata": {},
   "outputs": [
    {
     "data": {
      "image/png": "[encoded data removed]",
      "text/plain": [
       "<Figure size 640x480 with 1 Axes>"
      ]
     },
     "metadata": {},
     "output_type": "display_data"
    }
   ],
   "source": [
    "# Grafica del error\n",
    "plt.figure(1)\n",
    "plt.plot(range(1, len(errors) + 1), errors, marker='o')\n",
    "plt.xlabel('Época')\n",
    "plt.ylabel('Error Global')\n",
    "plt.title('Error Global del Perceptrón en cada Época')\n",
    "plt.grid(True)"
   ]
  },
  {
   "cell_type": "markdown",
   "metadata": {},
   "source": [
    "Predicciones"
   ]
  },
  {
   "cell_type": "code",
   "execution_count": 45,
   "metadata": {},
   "outputs": [
    {
     "name": "stdout",
     "output_type": "stream",
     "text": [
      "Número esperado: 0, Predicción: [0 0 0 0], Salida esperada: [0 0 0 0]\n",
      "Número esperado: 1, Predicción: [0 0 0 1], Salida esperada: [0 0 0 1]\n",
      "Número esperado: 2, Predicción: [0 0 1 0], Salida esperada: [0 0 1 0]\n",
      "Número esperado: 3, Predicción: [0 0 1 1], Salida esperada: [0 0 1 1]\n",
      "Número esperado: 4, Predicción: [0 1 0 0], Salida esperada: [0 1 0 0]\n",
      "Número esperado: 5, Predicción: [0 1 0 1], Salida esperada: [0 1 0 1]\n",
      "Número esperado: 6, Predicción: [0 1 1 0], Salida esperada: [0 1 1 0]\n",
      "Número esperado: 7, Predicción: [0 1 1 1], Salida esperada: [0 1 1 1]\n",
      "Número esperado: 8, Predicción: [1 0 0 0], Salida esperada: [1 0 0 0]\n",
      "Número esperado: 9, Predicción: [1 0 0 1], Salida esperada: [1 0 0 1]\n"
     ]
    }
   ],
   "source": [
    "# Verificación de las predicciones\n",
    "for i in range(len(inputs)):\n",
    "    input_vector = inputs[i]\n",
    "    target_output = outputs[i]\n",
    "    linear_output = np.dot(input_vector, weights) + bias\n",
    "    predicted_output = activation(linear_output)\n",
    "    print(f'Número esperado: {i}, Predicción: {predicted_output}, Salida esperada: {target_output}')"
   ]
  },
  {
   "cell_type": "markdown",
   "metadata": {},
   "source": [
    "Comparación Predicciones"
   ]
  },
  {
   "cell_type": "code",
   "execution_count": 46,
   "metadata": {},
   "outputs": [
    {
     "name": "stdout",
     "output_type": "stream",
     "text": [
      "Número esperado: 0, Predicción: 0\n",
      "Número esperado: 1, Predicción: 1\n",
      "Número esperado: 2, Predicción: 2\n",
      "Número esperado: 3, Predicción: 3\n",
      "Número esperado: 4, Predicción: 4\n",
      "Número esperado: 5, Predicción: 5\n",
      "Número esperado: 6, Predicción: 6\n",
      "Número esperado: 7, Predicción: 7\n",
      "Número esperado: 8, Predicción: 8\n",
      "Número esperado: 9, Predicción: 9\n"
     ]
    },
    {
     "data": {
      "image/png": "[encoded data removed]",
      "text/plain": [
       "<Figure size 640x480 with 1 Axes>"
      ]
     },
     "metadata": {},
     "output_type": "display_data"
    }
   ],
   "source": [
    "# Predicciones vs. salidas esperadas\n",
    "expected_numbers = []\n",
    "predicted_numbers = []\n",
    "\n",
    "for i in range(len(inputs)):\n",
    "    input_vector = inputs[i]\n",
    "    target_output = outputs[i]\n",
    "    linear_output = np.dot(input_vector, weights) + bias\n",
    "    predicted_output = activation(linear_output)\n",
    "\n",
    "    # Convertir los resultados binarios a números decimales\n",
    "    expected_number = int(''.join(map(str, target_output)), 2)\n",
    "    predicted_number = int(''.join(map(str, predicted_output)), 2)\n",
    "\n",
    "    # Almacenar resultados para graficar\n",
    "    expected_numbers.append(expected_number)\n",
    "    predicted_numbers.append(predicted_number)\n",
    "\n",
    "    print(f'Número esperado: {expected_number}, Predicción: {predicted_number}')\n",
    "\n",
    "# Graficar las predicciones vs los números esperados\n",
    "x = np.arange(len(inputs))  # Eje x (números de 0 a 9)\n",
    "\n",
    "plt.bar(x - 0.2, expected_numbers, 0.4, label='Esperado')\n",
    "plt.bar(x + 0.2, predicted_numbers, 0.4, label='Predicción')\n",
    "\n",
    "plt.xlabel('Número')\n",
    "plt.ylabel('Valor Binario')\n",
    "plt.title('Comparación de Predicciones vs Números Esperados')\n",
    "plt.xticks(x, [str(i) for i in range(len(inputs))])  # Etiquetas de los números (0 a 9)\n",
    "plt.legend()\n",
    "\n",
    "plt.show()"
   ]
  },
  {
   "cell_type": "markdown",
   "metadata": {},
   "source": [
    "Prueba con Ruido"
   ]
  },
  {
   "cell_type": "code",
   "execution_count": 57,
   "metadata": {},
   "outputs": [
    {
     "name": "stdout",
     "output_type": "stream",
     "text": [
      "Predicción para entrada con ruido: [0 0 0 1]\n"
     ]
    }
   ],
   "source": [
    "# Prueba con ruido\n",
    "noisy_input = np.array([1, 1, 1, 0, 1, 1, 1, 0, 0, 1, 1, 0, 1, 1, 1])  # Entrada con ruido para el número 3\n",
    "noisy_output = activation(np.dot(noisy_input, weights) + bias)\n",
    "print(f'Predicción para entrada con ruido: {noisy_output}')"
   ]
  },
  {
   "cell_type": "markdown",
   "metadata": {},
   "source": [
    "Grafica Ruido"
   ]
  },
  {
   "cell_type": "code",
   "execution_count": 58,
   "metadata": {},
   "outputs": [
    {
     "data": {
      "image/png": "[encoded data removed]",
      "text/plain": [
       "<Figure size 1000x600 with 2 Axes>"
      ]
     },
     "metadata": {},
     "output_type": "display_data"
    },
    {
     "name": "stdout",
     "output_type": "stream",
     "text": [
      "Predicción para entrada con ruido: [0 0 0 1]\n"
     ]
    }
   ],
   "source": [
    "# Datos originales (número 8 sin ruido)\n",
    "original_input = inputs[3]\n",
    "original_output = outputs[3]\n",
    "\n",
    "# Graficar los datos originales vs entrada con ruido\n",
    "fig, ax = plt.subplots(2, 1, figsize=(10, 6))\n",
    "\n",
    "# Graficar la entrada original\n",
    "ax[0].imshow(original_input.reshape(5, 3), cmap='gray', interpolation='none')\n",
    "ax[0].set_title('Entrada Original (Número 3)')\n",
    "ax[0].axis('off')\n",
    "\n",
    "# Graficar la entrada con ruido\n",
    "ax[1].imshow(noisy_input.reshape(5, 3), cmap='gray', interpolation='none')\n",
    "ax[1].set_title('Entrada con Ruido')\n",
    "ax[1].axis('off')\n",
    "\n",
    "plt.show()\n",
    "\n",
    "# Mostrar la predicción para la entrada con ruido\n",
    "print(f'Predicción para entrada con ruido: {noisy_output}')"
   ]
  }
 ],
 "metadata": {
  "kernelspec": {
   "display_name": "Python 3",
   "language": "python",
   "name": "python3"
  },
  "language_info": {
   "codemirror_mode": {
    "name": "ipython",
    "version": 3
   },
   "file_extension": ".py",
   "mimetype": "text/x-python",
   "name": "python",
   "nbconvert_exporter": "python",
   "pygments_lexer": "ipython3",
   "version": "3.11.3"
  }
 },
 "nbformat": 4,
 "nbformat_minor": 2
}
